{
 "cells": [
  {
   "cell_type": "markdown",
   "metadata": {
    "id": "-pvKxJjsNSoE",
    "pycharm": {
     "name": "#%% md\n"
    }
   },
   "source": [
    "![giskard_logo.png](https://raw.githubusercontent.com/Giskard-AI/giskard/main/readme/Logo_full_darkgreen.png)"
   ]
  },
  {
   "cell_type": "markdown",
   "metadata": {
    "cell_id": "a9b17467105f4031a3f9eae70ef4138f",
    "deepnote_cell_height": 134,
    "deepnote_cell_type": "markdown",
    "id": "PKcOi3D37xbW",
    "pycharm": {
     "name": "#%% md\n"
    },
    "tags": []
   },
   "source": [
    "# About Giskard\n",
    "\n",
    "Open-Source CI/CD platform for ML teams. Deliver ML products, better & faster. \n",
    "\n",
    "*   Collaborate faster with feedback from business stakeholders.\n",
    "*   Deploy automated tests to eliminate regressions, errors & biases.\n",
    "\n",
    "🏡 [Website](https://giskard.ai/)\n",
    "\n",
    "📗 [Documentation](https://docs.giskard.ai/)"
   ]
  },
  {
   "cell_type": "markdown",
   "metadata": {},
   "source": [
    "## Installing `giskard`"
   ]
  },
  {
   "cell_type": "code",
   "execution_count": 1,
   "metadata": {},
   "outputs": [],
   "source": [
    "!pip install giskard"
   ]
  },
  {
   "cell_type": "markdown",
   "metadata": {},
   "source": [
    "## Connect the external worker in daemon mode"
   ]
  },
  {
   "cell_type": "code",
   "execution_count": 2,
   "metadata": {},
   "outputs": [],
   "source": [
    "!giskard worker start -d"
   ]
  },
  {
   "cell_type": "markdown",
   "metadata": {
    "cell_id": "f35c8e8d3fbf4c0f9c01a69673c318a1",
    "deepnote_app_coordinates": {
     "h": 5,
     "w": 12,
     "x": 0,
     "y": 6
    },
    "deepnote_cell_height": 110,
    "deepnote_cell_type": "markdown",
    "id": "mJTqM-W_7xbW",
    "owner_user_id": "41ec0844-b5b7-49c2-9460-710a452f98de",
    "pycharm": {
     "name": "#%% md\n"
    },
    "tags": []
   },
   "source": [
    "# Start by creating an ML model 🚀🚀🚀"
   ]
  },
  {
   "cell_type": "markdown",
   "metadata": {
    "cell_id": "e8d609f32d5243dd917cc3104599b8d8",
    "deepnote_app_coordinates": {
     "h": 5,
     "w": 12,
     "x": 0,
     "y": 12
    },
    "deepnote_cell_height": 230,
    "deepnote_cell_type": "markdown",
    "id": "WNI85koE7xbX",
    "pycharm": {
     "name": "#%% md\n"
    },
    "tags": []
   },
   "source": [
    "Let's create a credit scoring Model using the German Credit scoring dataset [(Link](https://github.com/Giskard-AI/giskard-client/tree/main/sample_data/classification) to download the dataset)"
   ]
  },
  {
   "cell_type": "code",
   "execution_count": 3,
   "metadata": {
    "cell_id": "1d7f5390-3fb1-47b9-8488-7a55e5b465f9",
    "deepnote_app_coordinates": {
     "h": 5,
     "w": 12,
     "x": 0,
     "y": 18
    },
    "deepnote_cell_height": 315,
    "deepnote_cell_type": "code",
    "deepnote_to_be_reexecuted": false,
    "execution_millis": 798,
    "execution_start": 1652125164139,
    "id": "xEfe0KIo7xbX",
    "pycharm": {
     "name": "#%%\n"
    },
    "source_hash": "e81d6069",
    "tags": []
   },
   "outputs": [],
   "source": [
    "import pandas as pd\n",
    "\n",
    "from sklearn import model_selection\n",
    "from sklearn.preprocessing import StandardScaler\n",
    "from sklearn.preprocessing import OneHotEncoder\n",
    "from sklearn.linear_model import LogisticRegression\n",
    "from sklearn.ensemble import RandomForestClassifier\n",
    "from sklearn.pipeline import Pipeline\n",
    "from sklearn.impute import SimpleImputer\n",
    "from sklearn.compose import ColumnTransformer\n",
    "from sklearn.metrics import accuracy_score, precision_score, recall_score, f1_score\n",
    "\n",
    "import numpy as np\n",
    "from tensorflow.keras.models import Sequential\n",
    "from tensorflow.keras.layers import Dense\n",
    "from tensorflow.keras.optimizers import Adam\n",
    "\n",
    "import matplotlib.pyplot as plt"
   ]
  },
  {
   "cell_type": "code",
   "execution_count": 4,
   "metadata": {
    "pycharm": {
     "name": "#%%\n"
    }
   },
   "outputs": [],
   "source": [
    "# To download and read the credit scoring dataset\n",
    "url = 'https://raw.githubusercontent.com/Giskard-AI/examples/main/datasets/credit_scoring_classification_model_dataset/german_credit_prepared.csv'\n",
    "credit = pd.read_csv(url, sep=',',engine=\"python\") #To download go to https://github.com/Giskard-AI/giskard-client/tree/main/sample_data/classification"
   ]
  },
  {
   "cell_type": "code",
   "execution_count": 5,
   "metadata": {
    "pycharm": {
     "name": "#%%\n"
    }
   },
   "outputs": [],
   "source": [
    "# Declare the type of each column in the dataset(example: category, numeric, text)\n",
    "column_types = {'default':\"category\",\n",
    "               'account_check_status':\"category\", \n",
    "               'duration_in_month':\"numeric\",\n",
    "               'credit_history':\"category\",\n",
    "               'purpose':\"category\",\n",
    "               'credit_amount':\"numeric\",\n",
    "               'savings':\"category\",\n",
    "               'present_employment_since':\"category\",\n",
    "               'installment_as_income_perc':\"numeric\",\n",
    "               'sex':\"category\",\n",
    "               'personal_status':\"category\",\n",
    "               'other_debtors':\"category\",\n",
    "               'present_residence_since':\"numeric\",\n",
    "               'property':\"category\",\n",
    "               'age':\"numeric\",\n",
    "               'other_installment_plans':\"category\",\n",
    "               'housing':\"category\",\n",
    "               'credits_this_bank':\"numeric\",\n",
    "               'job':\"category\",\n",
    "               'people_under_maintenance':\"numeric\",\n",
    "               'telephone':\"category\",\n",
    "               'foreign_worker':\"category\"}"
   ]
  },
  {
   "cell_type": "code",
   "execution_count": 6,
   "metadata": {
    "pycharm": {
     "name": "#%%\n"
    }
   },
   "outputs": [],
   "source": [
    "# feature_types is used to declare the features the model is trained on\n",
    "feature_types = {i:column_types[i] for i in column_types if i!='default'}\n",
    "\n",
    "# Pipeline to fill missing values, transform and scale the numeric columns\n",
    "columns_to_scale = [key for key in feature_types.keys() if feature_types[key]==\"numeric\"]\n",
    "numeric_transformer = Pipeline([('imputer', SimpleImputer(strategy='median')),\n",
    "    ('scaler', StandardScaler())])\n",
    "\n",
    "# Pipeline to fill missing values and one hot encode the categorical values\n",
    "columns_to_encode = [key for key in feature_types.keys() if feature_types[key]==\"category\"]\n",
    "categorical_transformer = Pipeline([\n",
    "        ('imputer', SimpleImputer(strategy='constant', fill_value='missing')),\n",
    "        ('onehot', OneHotEncoder(handle_unknown='ignore',sparse=False)) ])\n",
    "\n",
    "# Perform preprocessing of the columns with the above pipelines\n",
    "preprocessor = ColumnTransformer(\n",
    "    transformers=[\n",
    "        ('num', numeric_transformer, columns_to_scale),\n",
    "      ('cat', categorical_transformer, columns_to_encode)\n",
    "          ]\n",
    ")\n",
    "\n",
    "# Pipeline for the model Logistic Regression\n",
    "clf_logistic_regression = Pipeline(steps=[('preprocessor', preprocessor),\n",
    "                      ('classifier', LogisticRegression(max_iter =1000))])\n",
    "\n",
    "# Split the data into train and test\n",
    "Y = credit['default']\n",
    "X= credit.drop(columns=\"default\")\n",
    "X_train, X_test, Y_train, Y_test = model_selection.train_test_split(X, Y, test_size=0.20,random_state = 30, stratify = Y)"
   ]
  },
  {
   "cell_type": "code",
   "execution_count": 7,
   "metadata": {
    "pycharm": {
     "name": "#%%\n"
    }
   },
   "outputs": [
    {
     "name": "stderr",
     "output_type": "stream",
     "text": [
      "C:\\Users\\AHMED-YASSINE\\AppData\\Roaming\\Python\\Python310\\site-packages\\sklearn\\preprocessing\\_encoders.py:868: FutureWarning: `sparse` was renamed to `sparse_output` in version 1.2 and will be removed in 1.4. `sparse_output` is ignored unless you leave `sparse` to its default value.\n",
      "  warnings.warn(\n"
     ]
    },
    {
     "data": {
      "text/plain": [
       "0.755"
      ]
     },
     "execution_count": 7,
     "metadata": {},
     "output_type": "execute_result"
    }
   ],
   "source": [
    "# Fit and score your model\n",
    "clf_logistic_regression.fit(X_train, Y_train)\n",
    "clf_logistic_regression.score(X_test, Y_test)\n",
    "\n"
   ]
  },
  {
   "cell_type": "markdown",
   "metadata": {},
   "source": [
    "To make sure that we need to do Data Augmentation on our dataset, we can verify the porpotion of the two classes in it.\n",
    "Here is a representation of the ratios in the $\\mathtt{credit}$ dataset : "
   ]
  },
  {
   "cell_type": "code",
   "execution_count": 8,
   "metadata": {},
   "outputs": [
    {
     "data": {
      "image/png": "[encoded data removed]",
      "text/plain": [
       "<Figure size 640x480 with 1 Axes>"
      ]
     },
     "metadata": {},
     "output_type": "display_data"
    }
   ],
   "source": [
    "\n",
    "# Converting the default column from 'Default' and 'Not default' values to 0 and 1\n",
    "Y_numeric = [1 if label == 'Default' else 0 for label in Y]\n",
    "\n",
    "#ratio of default/not default\n",
    "default = 100*sum(Y_numeric)/len(Y_numeric)\n",
    "not_default = 100 - default\n",
    "\n",
    "#Pie plot\n",
    "fig, ax = plt.subplots()\n",
    "ax.pie([default, not_default], labels=['Default class', 'Not default class'], autopct='%1.1f%%')\n",
    "\n",
    "plt.show()"
   ]
  },
  {
   "cell_type": "markdown",
   "metadata": {},
   "source": [
    "So we can see that our data set is very imbalanced ( $ 70\\% $ to $ 30\\% $ ), which can affect negatively the performance of our model. That's why we need to do some data augmentation to have a balanced data set and to build a model that performs better.\n",
    "\n",
    "Also, when dealing with imbalanced dataset, it is prefered to use the **F1 score** as metric, because using accuracy as the metric to evaluate a Machine Learning model that was trained with an imbalanced dataset the results can be misleading\n",
    "\n",
    "Let's check the F1 score of our previous model :"
   ]
  },
  {
   "cell_type": "code",
   "execution_count": 9,
   "metadata": {},
   "outputs": [
    {
     "name": "stdout",
     "output_type": "stream",
     "text": [
      "The F1 score of the first model is :  0.5663716814159292\n"
     ]
    }
   ],
   "source": [
    "# Building the predictions list \n",
    "Y_pred = clf_logistic_regression.predict(X_test) \n",
    "\n",
    "# Converting the Y_pred and Y_test lists to 0 and 1 (1  for 'Default' and 0 for 'Not default')\n",
    "y_pred_numeric = [1 if label == 'Default' else 0 for label in Y_pred]\n",
    "y_true_numeric = [1 if label == 'Default' else 0 for label in Y_test]\n",
    "\n",
    "# using the sklearn.metrics function to compute the f1 score :\n",
    "F1_score1 = f1_score(y_true_numeric, y_pred_numeric)\n",
    "print(\"The F1 score of the first model is : \", F1_score1)\n",
    "\n",
    "\n",
    "\n"
   ]
  },
  {
   "cell_type": "markdown",
   "metadata": {},
   "source": [
    "As we can see, the F1 score of the first model is very low even if its accuracy is $0.755$. Which shows how misleading can be the accuracy on imbalanced datasets. So for what's coming, **we use the F1 score as a metric.**"
   ]
  },
  {
   "cell_type": "markdown",
   "metadata": {},
   "source": [
    "## Data Augmentation of our dataset"
   ]
  },
  {
   "cell_type": "markdown",
   "metadata": {},
   "source": [
    "### SMOTE technique :  "
   ]
  },
  {
   "cell_type": "markdown",
   "metadata": {},
   "source": [
    "The Data Augmentation is well known on tha image classification field using CNN, but we can also use it on tabular datasets like ours with differents techniques. \n",
    "\n",
    "There is a lot of strategies to do it on tabular data, like Over sampling (generating new sample of the minority class) or Under sampling (randomly deleting samples from majority class) or generating synthetical data from the original.\n",
    "\n",
    "The first technique we are using is the SMOTE ( Synthetic Minority Over-sampling Technique ), which is an over sampling technique that stands on the nearest neighbours algorithm to generate new samples to generate samples from minority class to balance the data set. We are going to generate new data and retrain our model on it to see if ot performance is better. We are going to call this model the SMOTE model.\n",
    "\n",
    "The $\\mathtt{imblearn}$ python package contains SMOTE method and other methods for imbalanced data sets. We are going to use the SMOTENC function to generate new samples, it is the same as SMOTE but can deal with categorical features too.\n"
   ]
  },
  {
   "cell_type": "code",
   "execution_count": 10,
   "metadata": {},
   "outputs": [],
   "source": [
    "#!pip install imblearn\n",
    "from imblearn.over_sampling import SMOTENC"
   ]
  },
  {
   "cell_type": "markdown",
   "metadata": {},
   "source": [
    "#### SMOTE on all dataset"
   ]
  },
  {
   "cell_type": "markdown",
   "metadata": {},
   "source": [
    "The SMOTENC function takes the index of categorical features as an argument, and has the fit_resample method that generates new samples.\n",
    "\n",
    "                \n"
   ]
  },
  {
   "cell_type": "code",
   "execution_count": 11,
   "metadata": {},
   "outputs": [],
   "source": [
    "# creating the indexes of categorical features list\n",
    "features =     {'account_check_status':\"category\", \n",
    "               'duration_in_month':\"numeric\",\n",
    "               'credit_history':\"category\",\n",
    "               'purpose':\"category\",\n",
    "               'credit_amount':\"numeric\",\n",
    "               'savings':\"category\",\n",
    "               'present_employment_since':\"category\",\n",
    "               'installment_as_income_perc':\"numeric\",\n",
    "               'sex':\"category\",\n",
    "               'personal_status':\"category\",\n",
    "               'other_debtors':\"category\",\n",
    "               'present_residence_since':\"numeric\",\n",
    "               'property':\"category\",\n",
    "               'age':\"numeric\",\n",
    "               'other_installment_plans':\"category\",\n",
    "               'housing':\"category\",\n",
    "               'credits_this_bank':\"numeric\",\n",
    "               'job':\"category\",\n",
    "               'people_under_maintenance':\"numeric\",\n",
    "               'telephone':\"category\",\n",
    "               'foreign_worker':\"category\"}\n",
    "\n",
    "#Getting the indexes of categorical columns\n",
    "category_indexes = [index for index, value in enumerate(features.values()) if value == 'category']\n",
    "\n",
    "#Defining the SMOTENC function\n",
    "smotenc = SMOTENC(categorical_features = category_indexes)\n",
    "\n",
    "# Generating new data using fit_resample method\n",
    "X_smote, Y_smote = smotenc.fit_resample(X,Y)"
   ]
  },
  {
   "cell_type": "markdown",
   "metadata": {},
   "source": [
    "We can check if the new data is balanced : "
   ]
  },
  {
   "cell_type": "code",
   "execution_count": 12,
   "metadata": {},
   "outputs": [
    {
     "name": "stdout",
     "output_type": "stream",
     "text": [
      "The size of new data :  1400\n"
     ]
    },
    {
     "data": {
      "image/png": "[encoded data removed]",
      "text/plain": [
       "<Figure size 640x480 with 1 Axes>"
      ]
     },
     "metadata": {},
     "output_type": "display_data"
    }
   ],
   "source": [
    "print(\"The size of new data : \", len(Y_smote))\n",
    "\n",
    "Y_smote_num = [1 if label == 'Default' else 0 for label in Y_smote]\n",
    "default = 100*sum(Y_smote_num)/len(Y_smote_num)\n",
    "not_default = 100 - default\n",
    "\n",
    "fig, ax = plt.subplots()\n",
    "ax.pie([default, not_default], labels=['Default class', 'Not default class'], autopct='%1.1f%%')\n",
    "plt.title(\"SMOTE generated data ratios\")\n",
    "plt.show()"
   ]
  },
  {
   "cell_type": "markdown",
   "metadata": {},
   "source": [
    "As we can see, the new data is perfectly balanced. The SMOTENC function generated $400$ new samples of minority class.\n",
    "We can also tale a look on the generated data to see if it is coherent : \n"
   ]
  },
  {
   "cell_type": "code",
   "execution_count": 13,
   "metadata": {},
   "outputs": [
    {
     "data": {
      "text/html": [
       "<div>\n",
       "<style scoped>\n",
       "    .dataframe tbody tr th:only-of-type {\n",
       "        vertical-align: middle;\n",
       "    }\n",
       "\n",
       "    .dataframe tbody tr th {\n",
       "        vertical-align: top;\n",
       "    }\n",
       "\n",
       "    .dataframe thead th {\n",
       "        text-align: right;\n",
       "    }\n",
       "</style>\n",
       "<table border=\"1\" class=\"dataframe\">\n",
       "  <thead>\n",
       "    <tr style=\"text-align: right;\">\n",
       "      <th></th>\n",
       "      <th>account_check_status</th>\n",
       "      <th>duration_in_month</th>\n",
       "      <th>credit_history</th>\n",
       "      <th>purpose</th>\n",
       "      <th>credit_amount</th>\n",
       "      <th>savings</th>\n",
       "      <th>present_employment_since</th>\n",
       "      <th>installment_as_income_perc</th>\n",
       "      <th>sex</th>\n",
       "      <th>personal_status</th>\n",
       "      <th>...</th>\n",
       "      <th>present_residence_since</th>\n",
       "      <th>property</th>\n",
       "      <th>age</th>\n",
       "      <th>other_installment_plans</th>\n",
       "      <th>housing</th>\n",
       "      <th>credits_this_bank</th>\n",
       "      <th>job</th>\n",
       "      <th>people_under_maintenance</th>\n",
       "      <th>telephone</th>\n",
       "      <th>foreign_worker</th>\n",
       "    </tr>\n",
       "  </thead>\n",
       "  <tbody>\n",
       "    <tr>\n",
       "      <th>1395</th>\n",
       "      <td>&lt; 0 DM</td>\n",
       "      <td>17</td>\n",
       "      <td>existing credits paid back duly till now</td>\n",
       "      <td>(vacation - does not exist?)</td>\n",
       "      <td>1807</td>\n",
       "      <td>... &lt; 100 DM</td>\n",
       "      <td>4 &lt;= ... &lt; 7 years</td>\n",
       "      <td>3</td>\n",
       "      <td>female</td>\n",
       "      <td>divorced</td>\n",
       "      <td>...</td>\n",
       "      <td>1</td>\n",
       "      <td>real estate</td>\n",
       "      <td>22</td>\n",
       "      <td>stores</td>\n",
       "      <td>own</td>\n",
       "      <td>1</td>\n",
       "      <td>skilled employee / official</td>\n",
       "      <td>1</td>\n",
       "      <td>none</td>\n",
       "      <td>yes</td>\n",
       "    </tr>\n",
       "    <tr>\n",
       "      <th>1396</th>\n",
       "      <td>&lt; 0 DM</td>\n",
       "      <td>23</td>\n",
       "      <td>existing credits paid back duly till now</td>\n",
       "      <td>business</td>\n",
       "      <td>7499</td>\n",
       "      <td>... &lt; 100 DM</td>\n",
       "      <td>.. &gt;= 7 years</td>\n",
       "      <td>2</td>\n",
       "      <td>female</td>\n",
       "      <td>divorced</td>\n",
       "      <td>...</td>\n",
       "      <td>2</td>\n",
       "      <td>unknown / no property</td>\n",
       "      <td>51</td>\n",
       "      <td>none</td>\n",
       "      <td>own</td>\n",
       "      <td>1</td>\n",
       "      <td>management/ self-employed/ highly qualified em...</td>\n",
       "      <td>1</td>\n",
       "      <td>none</td>\n",
       "      <td>yes</td>\n",
       "    </tr>\n",
       "    <tr>\n",
       "      <th>1397</th>\n",
       "      <td>&lt; 0 DM</td>\n",
       "      <td>27</td>\n",
       "      <td>existing credits paid back duly till now</td>\n",
       "      <td>domestic appliances</td>\n",
       "      <td>3130</td>\n",
       "      <td>... &lt; 100 DM</td>\n",
       "      <td>... &lt; 1 year</td>\n",
       "      <td>2</td>\n",
       "      <td>female</td>\n",
       "      <td>divorced</td>\n",
       "      <td>...</td>\n",
       "      <td>3</td>\n",
       "      <td>if not A121 : building society savings agreeme...</td>\n",
       "      <td>31</td>\n",
       "      <td>none</td>\n",
       "      <td>own</td>\n",
       "      <td>1</td>\n",
       "      <td>skilled employee / official</td>\n",
       "      <td>1</td>\n",
       "      <td>none</td>\n",
       "      <td>yes</td>\n",
       "    </tr>\n",
       "    <tr>\n",
       "      <th>1398</th>\n",
       "      <td>0 &lt;= ... &lt; 200 DM</td>\n",
       "      <td>11</td>\n",
       "      <td>existing credits paid back duly till now</td>\n",
       "      <td>car (new)</td>\n",
       "      <td>904</td>\n",
       "      <td>... &lt; 100 DM</td>\n",
       "      <td>.. &gt;= 7 years</td>\n",
       "      <td>4</td>\n",
       "      <td>male</td>\n",
       "      <td>divorced</td>\n",
       "      <td>...</td>\n",
       "      <td>3</td>\n",
       "      <td>if not A121/A122 : car or other, not in attrib...</td>\n",
       "      <td>22</td>\n",
       "      <td>bank</td>\n",
       "      <td>own</td>\n",
       "      <td>1</td>\n",
       "      <td>skilled employee / official</td>\n",
       "      <td>1</td>\n",
       "      <td>none</td>\n",
       "      <td>yes</td>\n",
       "    </tr>\n",
       "    <tr>\n",
       "      <th>1399</th>\n",
       "      <td>0 &lt;= ... &lt; 200 DM</td>\n",
       "      <td>45</td>\n",
       "      <td>existing credits paid back duly till now</td>\n",
       "      <td>car (new)</td>\n",
       "      <td>6553</td>\n",
       "      <td>... &lt; 100 DM</td>\n",
       "      <td>.. &gt;= 7 years</td>\n",
       "      <td>2</td>\n",
       "      <td>male</td>\n",
       "      <td>single</td>\n",
       "      <td>...</td>\n",
       "      <td>1</td>\n",
       "      <td>unknown / no property</td>\n",
       "      <td>25</td>\n",
       "      <td>none</td>\n",
       "      <td>own</td>\n",
       "      <td>1</td>\n",
       "      <td>skilled employee / official</td>\n",
       "      <td>1</td>\n",
       "      <td>none</td>\n",
       "      <td>yes</td>\n",
       "    </tr>\n",
       "  </tbody>\n",
       "</table>\n",
       "<p>5 rows × 21 columns</p>\n",
       "</div>"
      ],
      "text/plain": [
       "     account_check_status  duration_in_month  \\\n",
       "1395               < 0 DM                 17   \n",
       "1396               < 0 DM                 23   \n",
       "1397               < 0 DM                 27   \n",
       "1398    0 <= ... < 200 DM                 11   \n",
       "1399    0 <= ... < 200 DM                 45   \n",
       "\n",
       "                                credit_history                       purpose  \\\n",
       "1395  existing credits paid back duly till now  (vacation - does not exist?)   \n",
       "1396  existing credits paid back duly till now                      business   \n",
       "1397  existing credits paid back duly till now           domestic appliances   \n",
       "1398  existing credits paid back duly till now                     car (new)   \n",
       "1399  existing credits paid back duly till now                     car (new)   \n",
       "\n",
       "      credit_amount       savings present_employment_since  \\\n",
       "1395           1807  ... < 100 DM       4 <= ... < 7 years   \n",
       "1396           7499  ... < 100 DM            .. >= 7 years   \n",
       "1397           3130  ... < 100 DM             ... < 1 year   \n",
       "1398            904  ... < 100 DM            .. >= 7 years   \n",
       "1399           6553  ... < 100 DM            .. >= 7 years   \n",
       "\n",
       "      installment_as_income_perc     sex personal_status  ...  \\\n",
       "1395                           3  female        divorced  ...   \n",
       "1396                           2  female        divorced  ...   \n",
       "1397                           2  female        divorced  ...   \n",
       "1398                           4    male        divorced  ...   \n",
       "1399                           2    male          single  ...   \n",
       "\n",
       "     present_residence_since  \\\n",
       "1395                       1   \n",
       "1396                       2   \n",
       "1397                       3   \n",
       "1398                       3   \n",
       "1399                       1   \n",
       "\n",
       "                                               property age  \\\n",
       "1395                                        real estate  22   \n",
       "1396                              unknown / no property  51   \n",
       "1397  if not A121 : building society savings agreeme...  31   \n",
       "1398  if not A121/A122 : car or other, not in attrib...  22   \n",
       "1399                              unknown / no property  25   \n",
       "\n",
       "      other_installment_plans housing credits_this_bank  \\\n",
       "1395                   stores     own                 1   \n",
       "1396                     none     own                 1   \n",
       "1397                     none     own                 1   \n",
       "1398                     bank     own                 1   \n",
       "1399                     none     own                 1   \n",
       "\n",
       "                                                    job  \\\n",
       "1395                        skilled employee / official   \n",
       "1396  management/ self-employed/ highly qualified em...   \n",
       "1397                        skilled employee / official   \n",
       "1398                        skilled employee / official   \n",
       "1399                        skilled employee / official   \n",
       "\n",
       "     people_under_maintenance  telephone foreign_worker  \n",
       "1395                        1       none            yes  \n",
       "1396                        1       none            yes  \n",
       "1397                        1       none            yes  \n",
       "1398                        1       none            yes  \n",
       "1399                        1       none            yes  \n",
       "\n",
       "[5 rows x 21 columns]"
      ]
     },
     "execution_count": 13,
     "metadata": {},
     "output_type": "execute_result"
    }
   ],
   "source": [
    "X_smote.tail()"
   ]
  },
  {
   "cell_type": "markdown",
   "metadata": {},
   "source": [
    "Now we can retrain our logistic regression model on the new data and test its performance on the validation datasets : "
   ]
  },
  {
   "cell_type": "code",
   "execution_count": 14,
   "metadata": {},
   "outputs": [
    {
     "name": "stderr",
     "output_type": "stream",
     "text": [
      "C:\\Users\\AHMED-YASSINE\\AppData\\Roaming\\Python\\Python310\\site-packages\\sklearn\\preprocessing\\_encoders.py:868: FutureWarning: `sparse` was renamed to `sparse_output` in version 1.2 and will be removed in 1.4. `sparse_output` is ignored unless you leave `sparse` to its default value.\n",
      "  warnings.warn(\n"
     ]
    },
    {
     "data": {
      "text/plain": [
       "0.7928571428571428"
      ]
     },
     "execution_count": 14,
     "metadata": {},
     "output_type": "execute_result"
    }
   ],
   "source": [
    "#Creating new learning and test datasets\n",
    "X_train2, X_test2, Y_train2, Y_test2 = model_selection.train_test_split(X_smote, Y_smote, test_size=0.20,random_state = 30, stratify = Y_smote)\n",
    "\n",
    "#Using the same Pipeline as the first model \n",
    "clf_logistic_regression.fit(X_train2, Y_train2)"
   ]
  },
  {
   "cell_type": "code",
   "execution_count": 15,
   "metadata": {},
   "outputs": [
    {
     "name": "stdout",
     "output_type": "stream",
     "text": [
      "The F1 score of the SMOTE model is :  0.7972027972027972\n"
     ]
    }
   ],
   "source": [
    "# Prediction the target column from the test dataset\n",
    "Y_pred2 = clf_logistic_regression.predict(X_test2) \n",
    "\n",
    "y_pred_numeric2 = [1 if label == 'Default' else 0 for label in Y_pred2]\n",
    "y_true_numeric2 = [1 if label == 'Default' else 0 for label in Y_test2]\n",
    "\n",
    "#comutiong F1 score\n",
    "F1_score1 = f1_score(y_true_numeric2, y_pred_numeric2)\n",
    "print(\"The F1 score of the SMOTE model is : \", F1_score1)"
   ]
  },
  {
   "cell_type": "markdown",
   "metadata": {},
   "source": [
    "#### SMOTE on underperforming data slices"
   ]
  },
  {
   "cell_type": "markdown",
   "metadata": {},
   "source": [
    "The previous work has been done on dataset without focusing on data slices that underperform. In the exercices we were given four data slices that underperfomed in using the first model. \n",
    "\n",
    "\n",
    "Our strategy here to fix that using the SMOTE method is to generate new samples based on these data slices and to add them to the full data set then retrain the model again."
   ]
  },
  {
   "cell_type": "code",
   "execution_count": 16,
   "metadata": {},
   "outputs": [],
   "source": [
    "#getting the data slices that underperformed under the first model :\n",
    "\n",
    "slice1 = credit[credit['duration_in_month'] == 36 ]\n",
    "slice2 = credit[credit['credit_history'] == 'all credits at this bank paid back duly']\n",
    "slice3 = credit[credit['account_check_status'] == '< 0 DM']\n",
    "slice4 = credit[credit['purpose'] == 'Other'] # we have noticed that this data slices is empty as the 'purpose'\n",
    "                                             # columns doesn't have 'other' case so we keep only the first three data slices\n",
    "                                                    \n",
    "Y_slice1 = slice1['default']\n",
    "X_slice1 = slice1.drop(columns=\"default\")\n",
    "\n",
    "\n",
    "Y_slice2 = slice2['default']\n",
    "X_slice2 = slice2.drop(columns=\"default\")\n",
    "\n",
    "\n",
    "Y_slice3 = slice3['default']\n",
    "X_slice3 = slice3.drop(columns=\"default\")\n"
   ]
  },
  {
   "cell_type": "code",
   "execution_count": 17,
   "metadata": {},
   "outputs": [],
   "source": [
    "\n",
    "# Generating new samples of each data slice \n",
    "X1_smote, Y1_smote = smotenc.fit_resample(X_slice1,Y_slice1)\n",
    "X2_smote, Y2_smote = smotenc.fit_resample(X_slice2,Y_slice2)\n",
    "X3_smote, Y3_smote = smotenc.fit_resample(X_slice3,Y_slice3)\n",
    "# Some of them can overlap ang we will have duplicated lines, we are going to deal with that after !"
   ]
  },
  {
   "cell_type": "code",
   "execution_count": 18,
   "metadata": {},
   "outputs": [],
   "source": [
    "# Concatenating the three data sets so as we can delete duplicate lines after\n",
    "df1_over = pd.concat([X1_smote, Y1_smote], axis = 1)\n",
    "df2_over = pd.concat([X2_smote, Y2_smote], axis = 1)\n",
    "df3_over = pd.concat([X3_smote, Y3_smote], axis = 1)\n",
    "\n",
    "df_smote2 = pd.concat([credit, df1_over, df2_over, df3_over], axis = 0)\n",
    "\n",
    "# dropping duplicate lines and spliting into validation and training data\n",
    "credit2 = df_smote2.drop_duplicates()\n",
    "\n",
    "\n",
    "X_smote2 = credit2.drop(columns='default')\n",
    "Y_smote2 = credit2['default']\n",
    "\n",
    "#Creating another validation and test datasets\n",
    "X_train3, X_test3, Y_train3, Y_test3 = model_selection.train_test_split(X_smote2, Y_smote2, test_size=0.20,random_state = 30, stratify = Y_smote2)"
   ]
  },
  {
   "cell_type": "markdown",
   "metadata": {},
   "source": [
    "The model accuracy has improved compared to the first model ($0.755$). But is can be mislaeding as we have said so let's see the F1 score"
   ]
  },
  {
   "cell_type": "code",
   "execution_count": 20,
   "metadata": {},
   "outputs": [
    {
     "name": "stdout",
     "output_type": "stream",
     "text": [
      "The F1 score of the SMOTE model is :  0.7972027972027972\n"
     ]
    }
   ],
   "source": [
    "#Fitting the model and predicting the target from th test dataset\n",
    "clf_logistic_regression.fit(X_train3, Y_train3)\n",
    "Y_pred3 = clf_logistic_regression.predict(X_test3)\n",
    "\n",
    "y_pred_numeric3 = [1 if label == 'Default' else 0 for label in Y_pred3]\n",
    "y_true_numeric3 = [1 if label == 'Default' else 0 for label in Y_test3]\n",
    "\n",
    "F1_score2 = f1_score(y_true_numeric3, y_pred_numeric3)\n",
    "print(\"The F1 score of the SMOTE model is : \", F1_score1)"
   ]
  },
  {
   "cell_type": "markdown",
   "metadata": {},
   "source": [
    "Great ! The F1 score is very high, the SMOTE startegy has improved the performance of our model."
   ]
  },
  {
   "cell_type": "markdown",
   "metadata": {},
   "source": [
    "### GAN technique"
   ]
  },
  {
   "cell_type": "markdown",
   "metadata": {},
   "source": [
    "The second technique we are going to use is called **GAN** (Generative Adversarial Networks). GAN is a synthetic data generation technique and it is extremely popular in image, video and voice generation and Even if it not very popular on tabular data, it can be used to generate synthectic data sets from an original data. \n",
    "\n",
    "GAN is simply a combination of two neural networks: Generator and Discriminator. Generator, using some random noise as input, tries to mimic the real data and Discriminator tries to classify the data into real and fake.\n",
    "\n",
    "To do that, we have to build the two neural networks and train them on our data. We are going to use the $\\mathtt{CTGAN()}$ function from the $\\mathtt{ctgan}$ package which create the neural network and return it back and it has $\\mathtt{sample}$ method that generates synthectic data."
   ]
  },
  {
   "cell_type": "code",
   "execution_count": 149,
   "metadata": {},
   "outputs": [],
   "source": [
    "from ctgan import CTGAN\n",
    "import random\n"
   ]
  },
  {
   "cell_type": "code",
   "execution_count": 22,
   "metadata": {},
   "outputs": [],
   "source": [
    "ctgan = CTGAN(epochs=30) # creating the GAN neural network\n",
    "\n",
    "#fitting the GAN to our data, we give the names of categorical columns too\n",
    "ctgan.fit(credit, ['default'] + columns_to_encode)\n",
    "\n",
    "#Generating synthetic data\n",
    "credit_synth = ctgan.sample(1000)"
   ]
  },
  {
   "cell_type": "markdown",
   "metadata": {},
   "source": [
    "Lets take a look at our synthetic generated data :"
   ]
  },
  {
   "cell_type": "code",
   "execution_count": 22,
   "metadata": {},
   "outputs": [
    {
     "name": "stdout",
     "output_type": "stream",
     "text": [
      "There is  40.7 % of class 'Default' samples\n",
      "There is  59.3 % of class 'Not default' samples\n"
     ]
    }
   ],
   "source": [
    "print(\"There is \", 100*sum(credit_synth['default'] == 'Default')/credit_synth.shape[0], \"% of class 'Default' samples\")\n",
    "print(\"There is \", 100 - 100*sum(credit_synth['default'] == 'Default')/credit_synth.shape[0], \"% of class 'Not default' samples\")"
   ]
  },
  {
   "cell_type": "markdown",
   "metadata": {},
   "source": [
    "We notice that the generated data is imbalanced, that's because the GAN learns from the original data set, which is also imbalanced.\n",
    "So working on these new data samples will give bad results that can be worse than the first model.\n",
    "\n",
    "So to deal with this problem we have two options : \n",
    "\n",
    "\n",
    "   - Either we train our GAN on a balanced data set, and we can do it by extracting a balanced subset from the original data then train the GAN on it to generate new synthetical balanced data set.\n",
    "    \n",
    "   - Either we train 3 GANs on the three data slices that underperforms and then we generate new data based on these slices.\n",
    "    \n",
    "    "
   ]
  },
  {
   "cell_type": "markdown",
   "metadata": {},
   "source": [
    "#### First option : training the gan on a balanced data subset"
   ]
  },
  {
   "cell_type": "markdown",
   "metadata": {},
   "source": [
    "As the original data set contains $300$ samples from 'default' class, we can extract few samples from the 'Not default' class to create the imbalanced data subset toward minority class so wa can sample a lot of 'Default' class samples."
   ]
  },
  {
   "cell_type": "code",
   "execution_count": 150,
   "metadata": {},
   "outputs": [],
   "source": [
    "#Extracting lines from 'Default' / 'Not default' class\n",
    "default_cl = credit[credit['default'] == 'Default']\n",
    "\n",
    "not_default_cl = credit[credit['default'] == 'Not default'].sample(170)\n",
    "\n",
    "# Concatinating both subsets\n",
    "sub_credit = pd.concat([default_cl, not_default_cl], axis = 0)"
   ]
  },
  {
   "cell_type": "code",
   "execution_count": 154,
   "metadata": {},
   "outputs": [],
   "source": [
    "random.seed(35)\n",
    "# creating our new GAN, fitting it and sampling new data\n",
    "ctgan1 = CTGAN(epochs=5, batch_size = 100, \n",
    "              embedding_dim=50, generator_dim=(20, 20), discriminator_dim=(20, 20))\n",
    "\n",
    "\n",
    "ctgan.fit(sub_credit, ['default'] + columns_to_encode)\n",
    "credit_synth = ctgan.sample(1000)"
   ]
  },
  {
   "cell_type": "code",
   "execution_count": 155,
   "metadata": {},
   "outputs": [
    {
     "name": "stdout",
     "output_type": "stream",
     "text": [
      "There is  79.4 % of class 'Default' samples\n",
      "There is  20.599999999999994 % of class 'Not default' samples\n"
     ]
    }
   ],
   "source": [
    "print(\"There is \", \n",
    "      100*sum(credit_synth['default'] == 'Default')/credit_synth.shape[0], \n",
    "      \"% of class 'Default' samples\") \n",
    "\n",
    "\n",
    "print(\"There is \", \n",
    "      100 - 100*sum(credit_synth['default'] == 'Default')/credit_synth.shape[0], \n",
    "      \"% of class 'Not default' samples\")"
   ]
  },
  {
   "cell_type": "code",
   "execution_count": 156,
   "metadata": {},
   "outputs": [
    {
     "data": {
      "image/png": "[encoded data removed]",
      "text/plain": [
       "<Figure size 640x480 with 1 Axes>"
      ]
     },
     "metadata": {},
     "output_type": "display_data"
    }
   ],
   "source": [
    "credit_gan = pd.concat([credit, credit_synth], axis = 0)\n",
    "\n",
    "credit_gan['credit_amount'] = abs(credit_gan['credit_amount'])\n",
    "\n",
    "\n",
    "Y_gan = credit_gan['default']\n",
    "X_gan = credit_gan.drop(columns=\"default\")\n",
    "\n",
    "Y_numeric_gan = [1 if label == 'Default' else 0 for label in Y_gan]\n",
    "default = 100*sum(Y_numeric_gan)/len(Y_numeric_gan)\n",
    "not_default = 100 - default\n",
    "\n",
    "fig, ax = plt.subplots()\n",
    "ax.pie([default, not_default], labels=['Default class', 'Not default class'], autopct='%1.1f%%')\n",
    "\n",
    "plt.show()"
   ]
  },
  {
   "cell_type": "code",
   "execution_count": 157,
   "metadata": {},
   "outputs": [
    {
     "name": "stdout",
     "output_type": "stream",
     "text": [
      "The GAN model F1 score is :  0.7441860465116279\n"
     ]
    },
    {
     "name": "stderr",
     "output_type": "stream",
     "text": [
      "C:\\Users\\AHMED-YASSINE\\AppData\\Roaming\\Python\\Python310\\site-packages\\sklearn\\preprocessing\\_encoders.py:868: FutureWarning: `sparse` was renamed to `sparse_output` in version 1.2 and will be removed in 1.4. `sparse_output` is ignored unless you leave `sparse` to its default value.\n",
      "  warnings.warn(\n"
     ]
    }
   ],
   "source": [
    "\n",
    "X_train_gan, X_test_gan, Y_train_gan, Y_test_gan = model_selection.train_test_split(X_gan, Y_gan, test_size=0.20 ,random_state = 35, stratify = Y_gan)\n",
    "clf_logistic_regression.fit(X_train_gan, Y_train_gan)\n",
    "\n",
    "Y_pred_gan = clf_logistic_regression.predict(X_test_gan)\n",
    "\n",
    "y_pred_numeric_gan = [1 if label == 'Default' else 0 for label in Y_pred_gan]\n",
    "y_true_numeric_gan = [1 if label == 'Default' else 0 for label in Y_test_gan]\n",
    "\n",
    "print(\"The GAN model F1 score is : \", f1_score(y_true_numeric_gan, y_pred_numeric_gan))\n"
   ]
  },
  {
   "cell_type": "markdown",
   "metadata": {},
   "source": [
    "The F1 score of this model is slightly higher than the first model ($0.567$), but it is lower than the SMOTE model.  \n",
    "Let's see how it does perform when we focus only on data slices that underperform"
   ]
  },
  {
   "cell_type": "markdown",
   "metadata": {},
   "source": [
    "#### Training on data slices that underperformed"
   ]
  },
  {
   "cell_type": "code",
   "execution_count": 146,
   "metadata": {},
   "outputs": [],
   "source": [
    "random.seed(45)\n",
    "ctgan_slice1 = CTGAN(epochs = 3, batch_size = 20)\n",
    "                    \n",
    "ctgan_slice2 = CTGAN(epochs = 3, batch_size = 20)\n",
    "                    \n",
    "ctgan_slice3 = CTGAN(epochs = 3, batch_size = 20)\n",
    "                \n",
    "\n",
    "ctgan_slice1.fit(slice1, ['default'] + columns_to_encode)\n",
    "ctgan_slice2.fit(slice2, ['default'] + columns_to_encode)\n",
    "ctgan_slice3.fit(slice3, ['default'] + columns_to_encode)\n",
    "\n",
    "synth_slice1 = ctgan_slice1.sample(50, condition_column='default', condition_value='Default')\n",
    "synth_slice2 = ctgan_slice1.sample(50, condition_column='default', condition_value='Default')\n",
    "synth_slice3 = ctgan_slice1.sample(50, condition_column='default', condition_value='Default')"
   ]
  },
  {
   "cell_type": "code",
   "execution_count": 147,
   "metadata": {},
   "outputs": [],
   "source": [
    "credit_gan_2 = pd.concat([credit, synth_slice1, synth_slice2, synth_slice3], axis = 0)\n",
    "credit_gan_2['credit_amount'] = abs(credit_gan_2['credit_amount'])\n",
    "\n",
    "Y_gan2 = credit_gan_2['default']\n",
    "X_gan2 = credit_gan_2.drop(columns=\"default\")\n",
    "\n",
    "\n",
    "X_train_gan2, X_test_gan2, Y_train_gan2, Y_test_gan2 = model_selection.train_test_split(X_gan2, Y_gan2, test_size=0.20 ,random_state = 30, stratify = Y_gan2)\n"
   ]
  },
  {
   "cell_type": "code",
   "execution_count": 148,
   "metadata": {},
   "outputs": [
    {
     "name": "stdout",
     "output_type": "stream",
     "text": [
      "The GAN model F1 score is :  0.6370370370370371\n"
     ]
    },
    {
     "name": "stderr",
     "output_type": "stream",
     "text": [
      "C:\\Users\\AHMED-YASSINE\\AppData\\Roaming\\Python\\Python310\\site-packages\\sklearn\\preprocessing\\_encoders.py:868: FutureWarning: `sparse` was renamed to `sparse_output` in version 1.2 and will be removed in 1.4. `sparse_output` is ignored unless you leave `sparse` to its default value.\n",
      "  warnings.warn(\n"
     ]
    }
   ],
   "source": [
    "clf_logistic_regression.fit(X_train_gan2, Y_train_gan2)\n",
    "\n",
    "Y_pred_gan2 = clf_logistic_regression.predict(X_test_gan2)\n",
    "\n",
    "\n",
    "y_pred_numeric_gan2 = [1 if label == 'Default' else 0 for label in Y_pred_gan2]\n",
    "y_true_numeric_gan2 = [1 if label == 'Default' else 0 for label in Y_test_gan2]\n",
    "\n",
    "print(\"The GAN model F1 score is : \", f1_score(y_true_numeric_gan2, y_pred_numeric_gan2))\n",
    "\n"
   ]
  },
  {
   "cell_type": "markdown",
   "metadata": {},
   "source": [
    "The ***F1 score** of this method is also slightly higher than the fisrt model which can be acceptable."
   ]
  },
  {
   "cell_type": "markdown",
   "metadata": {},
   "source": [
    "## Conclusion :\n",
    "\n",
    "In this notbook we've seen two methods of augmenting our data to improve the classification model. The original data was imbalanced which caused the model to not perform well (**F1 SCORE = 0.567**). We decided to consider the F1 score as the metric because when dealing with imbalanced datasets, the other metrics such as precision or accuracy can give misleading results.\n",
    "\n",
    "The first method is SMOTE, it gave F1 score around **0.78** when samples are generated based on the full dataset, and an F1 score around **0.79** when focused on data slices that underperform which shows great improvement compared to the original model\n",
    "\n",
    "The GAN method on the other hand, didn't perform as high as the SMOTE but it did improve the first model at least. The resulting F1 scores were around **0.7** when training the GAN on all the data set and around **0.6** when we focus on data slices that underperformed on the first model. Both results are still better than the first model.\n"
   ]
  }
 ],
 "metadata": {
  "colab": {
   "collapsed_sections": [],
   "name": "German_credit_scoring_giskard (2).ipynb",
   "provenance": []
  },
  "deepnote": {
   "is_reactive": false
  },
  "deepnote_app_layout": "article",
  "deepnote_execution_queue": [],
  "deepnote_notebook_id": "6e7ea85d-f19e-4d05-90a4-44b7668fd037",
  "kernelspec": {
   "display_name": "Python 3 (ipykernel)",
   "language": "python",
   "name": "python3"
  },
  "language_info": {
   "codemirror_mode": {
    "name": "ipython",
    "version": 3
   },
   "file_extension": ".py",
   "mimetype": "text/x-python",
   "name": "python",
   "nbconvert_exporter": "python",
   "pygments_lexer": "ipython3",
   "version": "3.10.8"
  }
 },
 "nbformat": 4,
 "nbformat_minor": 1
}
